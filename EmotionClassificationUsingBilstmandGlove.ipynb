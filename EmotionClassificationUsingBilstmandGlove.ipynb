{
  "cells": [
    {
      "cell_type": "markdown",
      "metadata": {
        "id": "8v1NUG1YcBBe"
      },
      "source": [
        "# Importing libraries"
      ]
    },
    {
      "cell_type": "code",
      "execution_count": 1,
      "metadata": {
        "id": "zU95-h-gbmI-"
      },
      "outputs": [],
      "source": [
        "import pandas as pd\n",
        "import numpy as np\n",
        "import nltk\n",
        "import tensorflow as tf\n",
        "from keras.layers import Dense, Bidirectional, LSTM, Dropout, BatchNormalization\n",
        "from keras.layers.embeddings import Embedding\n",
        "from keras.preprocessing.text import Tokenizer\n",
        "from keras.preprocessing.sequence import pad_sequences\n",
        "from keras.models import Sequential\n",
        "from sklearn.metrics import matthews_corrcoef, confusion_matrix\n",
        "from sklearn.model_selection import train_test_split\n",
        "from sklearn import metrics\n",
        "from sklearn.utils import shuffle\n",
        "import numpy as np\n",
        "import matplotlib.pyplot as plt\n",
        "import string"
      ]
    },
    {
      "cell_type": "code",
      "execution_count": 2,
      "metadata": {
        "colab": {
          "base_uri": "https://localhost:8080/"
        },
        "id": "G43g7qPrcT2P",
        "outputId": "2eb343a0-ee9d-4be8-b5ce-2a6b2c317932"
      },
      "outputs": [
        {
          "output_type": "stream",
          "name": "stdout",
          "text": [
            "Mounted at /content/drive\n"
          ]
        }
      ],
      "source": [
        "from google.colab import drive\n",
        "drive.mount('/content/drive')"
      ]
    },
    {
      "cell_type": "markdown",
      "metadata": {
        "id": "AmfVLE2rcoR5"
      },
      "source": [
        "# Dataset"
      ]
    },
    {
      "cell_type": "code",
      "execution_count": 3,
      "metadata": {
        "colab": {
          "base_uri": "https://localhost:8080/"
        },
        "id": "E0hFGZV4cn4L",
        "outputId": "3d2ebac4-2201-4f1c-922c-7aef746aec58"
      },
      "outputs": [
        {
          "output_type": "execute_result",
          "data": {
            "text/plain": [
              "0         anger\n",
              "1         anger\n",
              "2         happy\n",
              "3         anger\n",
              "4         happy\n",
              "         ...   \n",
              "4396       love\n",
              "4397       fear\n",
              "4398      anger\n",
              "4399      happy\n",
              "4400    sadness\n",
              "Name: label, Length: 4401, dtype: object"
            ]
          },
          "metadata": {},
          "execution_count": 3
        }
      ],
      "source": [
        "dataset = pd.read_csv(\"/content/drive/MyDrive/Indonesian-Twitter-Emotion-Dataset-master/Twitter_Emotion_Dataset.csv\")\n",
        "dataset.head()\n",
        "texts = dataset[['tweet']]\n",
        "dataset.label"
      ]
    },
    {
      "cell_type": "code",
      "execution_count": 4,
      "metadata": {
        "colab": {
          "base_uri": "https://localhost:8080/"
        },
        "id": "ONasS0P7oBkk",
        "outputId": "d9f30106-f14b-44bc-c84d-2fb075d098a4"
      },
      "outputs": [
        {
          "output_type": "stream",
          "name": "stdout",
          "text": [
            "Happy: 1017\n",
            "fear: 649\n",
            "sadness: 997\n",
            "love: 637\n",
            "anger: 1101\n"
          ]
        }
      ],
      "source": [
        "happy = 0\n",
        "fear = 0\n",
        "love = 0\n",
        "sadness = 0\n",
        "anger = 0\n",
        "for label in dataset.label:\n",
        "  if(label == 'happy'):\n",
        "    happy+=1\n",
        "  elif(label == 'fear'):\n",
        "    fear+=1\n",
        "  elif(label == 'sadness'):\n",
        "    sadness+=1\n",
        "  elif(label =='love'):\n",
        "    love+=1\n",
        "  elif(label == 'anger'):\n",
        "    anger+=1\n",
        "print(\"Happy:\",happy)\n",
        "print(\"fear:\",fear)\n",
        "print(\"sadness:\",sadness)\n",
        "print(\"love:\",love)\n",
        "print(\"anger:\",anger)\n"
      ]
    },
    {
      "cell_type": "markdown",
      "metadata": {
        "id": "bvnAfrBBchd0"
      },
      "source": [
        "### ***Pre processing***"
      ]
    },
    {
      "cell_type": "code",
      "execution_count": 4,
      "metadata": {
        "id": "rIQB8yVXrxX4"
      },
      "outputs": [],
      "source": [
        ""
      ]
    },
    {
      "cell_type": "markdown",
      "metadata": {
        "id": "xhjKBc2fdAms"
      },
      "source": [
        "# 1. Remove [\"[USERNAME]\", \"[URL]\", \"[SENSITIVE-NO]\"]"
      ]
    },
    {
      "cell_type": "code",
      "execution_count": 5,
      "metadata": {
        "id": "sWBLjt_lcUbk"
      },
      "outputs": [],
      "source": [
        "def remove_term(texts):\n",
        "    term = [\"[USERNAME]\", \"[URL]\", \"[SENSITIVE-NO]\"]\n",
        "    textwords = texts.split()\n",
        "    termfreewords = [word for word in textwords if word not in term]\n",
        "    termfree = ' '.join(termfreewords)\n",
        "    return termfree\n",
        "\n",
        "texts['termfree_msg'] = texts['tweet'].apply(lambda x:remove_term(x))\n"
      ]
    },
    {
      "cell_type": "markdown",
      "metadata": {
        "id": "agM--nxgdFmd"
      },
      "source": [
        "# 2. Case Folding"
      ]
    },
    {
      "cell_type": "markdown",
      "metadata": {
        "id": "9Djsl8jmdH2p"
      },
      "source": [
        "# - Remove Punctuation\n"
      ]
    },
    {
      "cell_type": "code",
      "execution_count": 6,
      "metadata": {
        "id": "wJef_mMUc5lc"
      },
      "outputs": [],
      "source": [
        "# def remove_punctuation(texts):\n",
        "#     # punctuationfree=\"\".join([i for i in texts if i not in string.punctuation])\n",
        "#     exclude = string.punctuation\n",
        "#     punctuationfree = \"\".join([(ch if ch not in exclude else \" \") for ch in texts])\n",
        "#     return punctuationfree\n",
        "# #storing the puntuation free text\n",
        "# texts['clean_msg']= texts['termfree_msg'].apply(lambda x:remove_punctuation(x))\n",
        "# texts.head()"
      ]
    },
    {
      "cell_type": "markdown",
      "metadata": {
        "id": "Ril_Zmv8dMZ_"
      },
      "source": [
        "# - Lower case the text"
      ]
    },
    {
      "cell_type": "code",
      "execution_count": 7,
      "metadata": {
        "colab": {
          "base_uri": "https://localhost:8080/",
          "height": 206
        },
        "id": "AjiBVYyodL5o",
        "outputId": "b69515b9-fd2e-4ab0-892f-599fd53bd8cf"
      },
      "outputs": [
        {
          "output_type": "execute_result",
          "data": {
            "text/html": [
              "\n",
              "  <div id=\"df-0c49332c-7222-43cb-8e6f-12b170c80603\">\n",
              "    <div class=\"colab-df-container\">\n",
              "      <div>\n",
              "<style scoped>\n",
              "    .dataframe tbody tr th:only-of-type {\n",
              "        vertical-align: middle;\n",
              "    }\n",
              "\n",
              "    .dataframe tbody tr th {\n",
              "        vertical-align: top;\n",
              "    }\n",
              "\n",
              "    .dataframe thead th {\n",
              "        text-align: right;\n",
              "    }\n",
              "</style>\n",
              "<table border=\"1\" class=\"dataframe\">\n",
              "  <thead>\n",
              "    <tr style=\"text-align: right;\">\n",
              "      <th></th>\n",
              "      <th>tweet</th>\n",
              "      <th>termfree_msg</th>\n",
              "      <th>lower</th>\n",
              "    </tr>\n",
              "  </thead>\n",
              "  <tbody>\n",
              "    <tr>\n",
              "      <th>0</th>\n",
              "      <td>Soal jln Jatibaru,polisi tdk bs GERTAK gubernu...</td>\n",
              "      <td>Soal jln Jatibaru,polisi tdk bs GERTAK gubernu...</td>\n",
              "      <td>soal jln jatibaru,polisi tdk bs gertak gubernu...</td>\n",
              "    </tr>\n",
              "    <tr>\n",
              "      <th>1</th>\n",
              "      <td>Sesama cewe lho (kayaknya), harusnya bisa lebi...</td>\n",
              "      <td>Sesama cewe lho (kayaknya), harusnya bisa lebi...</td>\n",
              "      <td>sesama cewe lho (kayaknya), harusnya bisa lebi...</td>\n",
              "    </tr>\n",
              "    <tr>\n",
              "      <th>2</th>\n",
              "      <td>Kepingin gudeg mbarek Bu hj. Amad Foto dari go...</td>\n",
              "      <td>Kepingin gudeg mbarek Bu hj. Amad Foto dari go...</td>\n",
              "      <td>kepingin gudeg mbarek bu hj. amad foto dari go...</td>\n",
              "    </tr>\n",
              "    <tr>\n",
              "      <th>3</th>\n",
              "      <td>Jln Jatibaru,bagian dari wilayah Tn Abang.Peng...</td>\n",
              "      <td>Jln Jatibaru,bagian dari wilayah Tn Abang.Peng...</td>\n",
              "      <td>jln jatibaru,bagian dari wilayah tn abang.peng...</td>\n",
              "    </tr>\n",
              "    <tr>\n",
              "      <th>4</th>\n",
              "      <td>Sharing pengalaman aja, kemarin jam 18.00 bata...</td>\n",
              "      <td>Sharing pengalaman aja, kemarin jam 18.00 bata...</td>\n",
              "      <td>sharing pengalaman aja, kemarin jam 18.00 bata...</td>\n",
              "    </tr>\n",
              "  </tbody>\n",
              "</table>\n",
              "</div>\n",
              "      <button class=\"colab-df-convert\" onclick=\"convertToInteractive('df-0c49332c-7222-43cb-8e6f-12b170c80603')\"\n",
              "              title=\"Convert this dataframe to an interactive table.\"\n",
              "              style=\"display:none;\">\n",
              "        \n",
              "  <svg xmlns=\"http://www.w3.org/2000/svg\" height=\"24px\"viewBox=\"0 0 24 24\"\n",
              "       width=\"24px\">\n",
              "    <path d=\"M0 0h24v24H0V0z\" fill=\"none\"/>\n",
              "    <path d=\"M18.56 5.44l.94 2.06.94-2.06 2.06-.94-2.06-.94-.94-2.06-.94 2.06-2.06.94zm-11 1L8.5 8.5l.94-2.06 2.06-.94-2.06-.94L8.5 2.5l-.94 2.06-2.06.94zm10 10l.94 2.06.94-2.06 2.06-.94-2.06-.94-.94-2.06-.94 2.06-2.06.94z\"/><path d=\"M17.41 7.96l-1.37-1.37c-.4-.4-.92-.59-1.43-.59-.52 0-1.04.2-1.43.59L10.3 9.45l-7.72 7.72c-.78.78-.78 2.05 0 2.83L4 21.41c.39.39.9.59 1.41.59.51 0 1.02-.2 1.41-.59l7.78-7.78 2.81-2.81c.8-.78.8-2.07 0-2.86zM5.41 20L4 18.59l7.72-7.72 1.47 1.35L5.41 20z\"/>\n",
              "  </svg>\n",
              "      </button>\n",
              "      \n",
              "  <style>\n",
              "    .colab-df-container {\n",
              "      display:flex;\n",
              "      flex-wrap:wrap;\n",
              "      gap: 12px;\n",
              "    }\n",
              "\n",
              "    .colab-df-convert {\n",
              "      background-color: #E8F0FE;\n",
              "      border: none;\n",
              "      border-radius: 50%;\n",
              "      cursor: pointer;\n",
              "      display: none;\n",
              "      fill: #1967D2;\n",
              "      height: 32px;\n",
              "      padding: 0 0 0 0;\n",
              "      width: 32px;\n",
              "    }\n",
              "\n",
              "    .colab-df-convert:hover {\n",
              "      background-color: #E2EBFA;\n",
              "      box-shadow: 0px 1px 2px rgba(60, 64, 67, 0.3), 0px 1px 3px 1px rgba(60, 64, 67, 0.15);\n",
              "      fill: #174EA6;\n",
              "    }\n",
              "\n",
              "    [theme=dark] .colab-df-convert {\n",
              "      background-color: #3B4455;\n",
              "      fill: #D2E3FC;\n",
              "    }\n",
              "\n",
              "    [theme=dark] .colab-df-convert:hover {\n",
              "      background-color: #434B5C;\n",
              "      box-shadow: 0px 1px 3px 1px rgba(0, 0, 0, 0.15);\n",
              "      filter: drop-shadow(0px 1px 2px rgba(0, 0, 0, 0.3));\n",
              "      fill: #FFFFFF;\n",
              "    }\n",
              "  </style>\n",
              "\n",
              "      <script>\n",
              "        const buttonEl =\n",
              "          document.querySelector('#df-0c49332c-7222-43cb-8e6f-12b170c80603 button.colab-df-convert');\n",
              "        buttonEl.style.display =\n",
              "          google.colab.kernel.accessAllowed ? 'block' : 'none';\n",
              "\n",
              "        async function convertToInteractive(key) {\n",
              "          const element = document.querySelector('#df-0c49332c-7222-43cb-8e6f-12b170c80603');\n",
              "          const dataTable =\n",
              "            await google.colab.kernel.invokeFunction('convertToInteractive',\n",
              "                                                     [key], {});\n",
              "          if (!dataTable) return;\n",
              "\n",
              "          const docLinkHtml = 'Like what you see? Visit the ' +\n",
              "            '<a target=\"_blank\" href=https://colab.research.google.com/notebooks/data_table.ipynb>data table notebook</a>'\n",
              "            + ' to learn more about interactive tables.';\n",
              "          element.innerHTML = '';\n",
              "          dataTable['output_type'] = 'display_data';\n",
              "          await google.colab.output.renderOutput(dataTable, element);\n",
              "          const docLink = document.createElement('div');\n",
              "          docLink.innerHTML = docLinkHtml;\n",
              "          element.appendChild(docLink);\n",
              "        }\n",
              "      </script>\n",
              "    </div>\n",
              "  </div>\n",
              "  "
            ],
            "text/plain": [
              "                                               tweet  ...                                              lower\n",
              "0  Soal jln Jatibaru,polisi tdk bs GERTAK gubernu...  ...  soal jln jatibaru,polisi tdk bs gertak gubernu...\n",
              "1  Sesama cewe lho (kayaknya), harusnya bisa lebi...  ...  sesama cewe lho (kayaknya), harusnya bisa lebi...\n",
              "2  Kepingin gudeg mbarek Bu hj. Amad Foto dari go...  ...  kepingin gudeg mbarek bu hj. amad foto dari go...\n",
              "3  Jln Jatibaru,bagian dari wilayah Tn Abang.Peng...  ...  jln jatibaru,bagian dari wilayah tn abang.peng...\n",
              "4  Sharing pengalaman aja, kemarin jam 18.00 bata...  ...  sharing pengalaman aja, kemarin jam 18.00 bata...\n",
              "\n",
              "[5 rows x 3 columns]"
            ]
          },
          "metadata": {},
          "execution_count": 7
        }
      ],
      "source": [
        "# lower case \n",
        "texts['lower']= texts['termfree_msg'].apply(lambda x: x.lower())\n",
        "texts.head()"
      ]
    },
    {
      "cell_type": "markdown",
      "metadata": {
        "id": "Y2MeBJEMdQNn"
      },
      "source": [
        "# 3.Tokenization"
      ]
    },
    {
      "cell_type": "code",
      "execution_count": 8,
      "metadata": {
        "colab": {
          "base_uri": "https://localhost:8080/"
        },
        "id": "UT_nj5S9dTSD",
        "outputId": "332f5109-6fca-434d-d6a7-e2b505a54c2b"
      },
      "outputs": [
        {
          "output_type": "execute_result",
          "data": {
            "text/plain": [
              "0       [soal, jln, jatibaru, polisi, tdk, bs, gertak,...\n",
              "1       [sesama, cewe, lho, , kayaknya, , , harusnya, ...\n",
              "2       [kepingin, gudeg, mbarek, bu, hj, , amad, foto...\n",
              "3       [jln, jatibaru, bagian, dari, wilayah, tn, aba...\n",
              "4       [sharing, pengalaman, aja, , kemarin, jam, 18,...\n",
              "                              ...                        \n",
              "4396    [tahukah, kamu, , bahwa, saat, itu, papa, meme...\n",
              "4397    [sulitnya, menetapkan, calon, wapresnya, jokow...\n",
              "4398    [5, , masa, depannya, nggak, jelas, , lha, iya...\n",
              "4399    [dulu, beneran, ada, mahasiswa, teknik, ui, ne...\n",
              "4400    [ya, allah, , hanya, engkau, yang, mengetahui,...\n",
              "Name: token, Length: 4401, dtype: object"
            ]
          },
          "metadata": {},
          "execution_count": 8
        }
      ],
      "source": [
        "import re\n",
        "\n",
        "def tokenization(texts):\n",
        "    tokens = re.split('\\W',texts)\n",
        "    return tokens\n",
        "    \n",
        "#applying function to the column\n",
        "texts['token']= texts['lower'].apply(lambda x: tokenization(x))\n",
        "\n",
        "texts['token']"
      ]
    },
    {
      "cell_type": "markdown",
      "metadata": {
        "id": "2ts2O9aZdW7b"
      },
      "source": [
        "# 4.Change singkatan to formal word"
      ]
    },
    {
      "cell_type": "code",
      "execution_count": 9,
      "metadata": {
        "id": "K-lhb81UdWaL"
      },
      "outputs": [],
      "source": [
        "def change_singkatan_into_formal_word(text):\n",
        "  formal_text = [singkatan.hasil[singkatan.index[singkatan.singkatan == word].tolist()[0]].strip()\\\n",
        "    if word in singkatan.singkatan.values else word for word in text]\n",
        "  return formal_text\n",
        "\n",
        "# Remove singkatan using  kamus_singkatan.csv\n",
        "singkatan = pd.read_csv(\"/content/drive/MyDrive/Indonesian-Twitter-Emotion-Dataset-master/kamus_singkatan.csv\")\n",
        "data_text= []\n",
        "for i,sentence in enumerate(texts['token']):\n",
        "    data_text.append(change_singkatan_into_formal_word(sentence))"
      ]
    },
    {
      "cell_type": "code",
      "execution_count": 10,
      "metadata": {
        "colab": {
          "base_uri": "https://localhost:8080/"
        },
        "id": "oyJ-Z0UJkru0",
        "outputId": "383818a7-7aa5-4c81-fdbf-dd7a35dfc65b"
      },
      "outputs": [
        {
          "output_type": "stream",
          "name": "stdout",
          "text": [
            "Collecting sastrawi\n",
            "  Downloading Sastrawi-1.0.1-py2.py3-none-any.whl (209 kB)\n",
            "\u001b[?25l\r\u001b[K     |█▋                              | 10 kB 27.5 MB/s eta 0:00:01\r\u001b[K     |███▏                            | 20 kB 15.8 MB/s eta 0:00:01\r\u001b[K     |████▊                           | 30 kB 10.9 MB/s eta 0:00:01\r\u001b[K     |██████▎                         | 40 kB 9.4 MB/s eta 0:00:01\r\u001b[K     |███████▉                        | 51 kB 5.5 MB/s eta 0:00:01\r\u001b[K     |█████████▍                      | 61 kB 5.7 MB/s eta 0:00:01\r\u001b[K     |███████████                     | 71 kB 5.5 MB/s eta 0:00:01\r\u001b[K     |████████████▌                   | 81 kB 6.2 MB/s eta 0:00:01\r\u001b[K     |██████████████                  | 92 kB 6.2 MB/s eta 0:00:01\r\u001b[K     |███████████████▋                | 102 kB 5.2 MB/s eta 0:00:01\r\u001b[K     |█████████████████▏              | 112 kB 5.2 MB/s eta 0:00:01\r\u001b[K     |██████████████████▊             | 122 kB 5.2 MB/s eta 0:00:01\r\u001b[K     |████████████████████▎           | 133 kB 5.2 MB/s eta 0:00:01\r\u001b[K     |█████████████████████▉          | 143 kB 5.2 MB/s eta 0:00:01\r\u001b[K     |███████████████████████▍        | 153 kB 5.2 MB/s eta 0:00:01\r\u001b[K     |█████████████████████████       | 163 kB 5.2 MB/s eta 0:00:01\r\u001b[K     |██████████████████████████▋     | 174 kB 5.2 MB/s eta 0:00:01\r\u001b[K     |████████████████████████████▏   | 184 kB 5.2 MB/s eta 0:00:01\r\u001b[K     |█████████████████████████████▊  | 194 kB 5.2 MB/s eta 0:00:01\r\u001b[K     |███████████████████████████████▎| 204 kB 5.2 MB/s eta 0:00:01\r\u001b[K     |████████████████████████████████| 209 kB 5.2 MB/s \n",
            "\u001b[?25hInstalling collected packages: sastrawi\n",
            "Successfully installed sastrawi-1.0.1\n"
          ]
        }
      ],
      "source": [
        "pip install sastrawi"
      ]
    },
    {
      "cell_type": "code",
      "execution_count": 11,
      "metadata": {
        "id": "YvNByYw7tBjl"
      },
      "outputs": [],
      "source": [
        "from Sastrawi.Stemmer.StemmerFactory import StemmerFactory\n",
        "factory = StemmerFactory()\n",
        "stemmer = factory.create_stemmer()"
      ]
    },
    {
      "cell_type": "code",
      "execution_count": 12,
      "metadata": {
        "colab": {
          "base_uri": "https://localhost:8080/"
        },
        "id": "HMm1wv3XdgU3",
        "outputId": "39ba8768-3ac7-4030-adac-1fb75dc8dbea"
      },
      "outputs": [
        {
          "output_type": "stream",
          "name": "stdout",
          "text": [
            "['soal', 'jalan', 'jatibaru', 'polisi', 'tidak', 'bisa', 'gertak', 'gubernur', '', 'emangny', 'polisi', 'tidak', 'ikut', 'pmbhasan', '', 'jangan', 'berpolitik', '', 'pengaturan', 'wilayah', 'hak', 'gubernur', '', 'persoalan', 'tn', 'abang', 'soal', 'turun', 'temurun', 'pelik', 'perlu', 'kesabaran', '']\n"
          ]
        }
      ],
      "source": [
        "print(data_text[0])"
      ]
    },
    {
      "cell_type": "markdown",
      "metadata": {
        "id": "wCLxQaYLdr_y"
      },
      "source": [
        "# 5.Removing stop words and null value"
      ]
    },
    {
      "cell_type": "code",
      "execution_count": 13,
      "metadata": {
        "colab": {
          "base_uri": "https://localhost:8080/"
        },
        "id": "6TUvYVFcdvYC",
        "outputId": "45bf1a98-44d3-45f9-dba6-b68ff29f235b"
      },
      "outputs": [
        {
          "output_type": "stream",
          "name": "stdout",
          "text": [
            "['yang', 'untuk', 'pada', 'ke', 'para', 'namun', 'menurut', 'antara', 'dia', 'dua', 'ia', 'seperti', 'jika', 'jika', 'sehingga', 'kembali', 'dan', 'tidak', 'ini', 'karena', 'kepada', 'oleh', 'saat', 'harus', 'sementara', 'setelah', 'belum', 'kami', 'sekitar', 'bagi', 'serta', 'di', 'dari', 'telah', 'sebagai', 'masih', 'hal', 'ketika', 'adalah', 'itu', 'dalam', 'bisa', 'bahwa', 'atau', 'hanya', 'kita', 'dengan', 'akan', 'juga', 'ada', 'mereka', 'sudah', 'saya', 'terhadap', 'secara', 'agar', 'lain', 'anda', 'begitu', 'mengapa', 'kenapa', 'yaitu', 'yakni', 'daripada', 'itulah', 'lagi', 'maka', 'tentang', 'demi', 'dimana', 'kemana', 'pula', 'sambil', 'sebelum', 'sesudah', 'supaya', 'guna', 'kah', 'pun', 'sampai', 'sedangkan', 'selagi', 'sementara', 'tetapi', 'apakah', 'kecuali', 'sebab', 'selain', 'seolah', 'seraya', 'seterusnya', 'tanpa', 'agak', 'boleh', 'dapat', 'dsb', 'dst', 'dll', 'dahulu', 'dulunya', 'anu', 'demikian', 'tapi', 'ingin', 'juga', 'nggak', 'mari', 'nanti', 'melainkan', 'oh', 'ok', 'seharusnya', 'sebetulnya', 'setiap', 'setidaknya', 'sesuatu', 'pasti', 'saja', 'toh', 'ya', 'walau', 'tolong', 'tentu', 'amat', 'apalagi', 'bagaimanapun']\n"
          ]
        }
      ],
      "source": [
        "from Sastrawi.StopWordRemover.StopWordRemoverFactory import StopWordRemoverFactory\n",
        "factory = StopWordRemoverFactory()\n",
        "stopwords = factory.get_stop_words()\n",
        "print(stopwords)"
      ]
    },
    {
      "cell_type": "code",
      "execution_count": 14,
      "metadata": {
        "id": "fCrC10TXd8pu"
      },
      "outputs": [],
      "source": [
        "#Removing stop word and null value\n",
        "text_after_pre = []\n",
        "for text in data_text:\n",
        "  list_word = []\n",
        "  string = \"\"\n",
        "  for idx,word in enumerate(text):\n",
        "    if(word!='' and word not in stopwords):\n",
        "      list_word.append(word)\n",
        "      if((idx+1) == len(text) ):\n",
        "        string+=word\n",
        "      else:\n",
        "        string+=word + \" \"\n",
        "  text_after_pre.append(string)\n"
      ]
    },
    {
      "cell_type": "code",
      "execution_count": 15,
      "metadata": {
        "colab": {
          "base_uri": "https://localhost:8080/"
        },
        "id": "h4hP2SiJeBLY",
        "outputId": "192b819c-c004-4998-b8c2-d18f12cb1ef6"
      },
      "outputs": [
        {
          "output_type": "stream",
          "name": "stdout",
          "text": [
            "kepingin gudeg mbarek bu hj amad foto google sengaja biar teman teman membayangkannya berbagi indah \n",
            "100\n",
            "15\n"
          ]
        }
      ],
      "source": [
        "print(text_after_pre[2])\n",
        "print(len(text_after_pre[2]))\n",
        "print(len(text_after_pre[2].split()))"
      ]
    },
    {
      "cell_type": "code",
      "execution_count": 16,
      "metadata": {
        "id": "YiK5ruzctL17"
      },
      "outputs": [],
      "source": [
        "# data_cleaned = []\n",
        "# for text in text_after_pre:\n",
        "#   hasil = stemmer.stem(text)\n",
        "#   data_cleaned.append(hasil)\n",
        "# print(len(data_cleaned))"
      ]
    },
    {
      "cell_type": "markdown",
      "metadata": {
        "id": "3VVYVE-FeIuV"
      },
      "source": [
        "# !Pretrained Using Glove\n"
      ]
    },
    {
      "cell_type": "code",
      "execution_count": 17,
      "metadata": {
        "id": "SeAMihLIeC65"
      },
      "outputs": [],
      "source": [
        "def prepare_model_input(X_train, X_test,MAX_NB_WORDS=10000,MAX_SEQUENCE_LENGTH=68):\n",
        "    #Text to pad_sequences\n",
        "    np.random.seed(7)\n",
        "    text = np.concatenate((X_train, X_test), axis=0)\n",
        "    text = np.array(text)\n",
        "    tokenizer = Tokenizer()\n",
        " \n",
        "    tokenizer.fit_on_texts(text)\n",
        "\n",
        "    # Change it to sequences\n",
        "    sequences = tokenizer.texts_to_sequences(text)\n",
        "    # Word_index => A dictionary of words and their uniquely assigned integers\n",
        "    word_index = tokenizer.word_index\n",
        "    # ensure that all sequences in a list have the same length\n",
        "    text = pad_sequences(sequences, maxlen=MAX_SEQUENCE_LENGTH)\n",
        "    print('Found %s unique tokens.' % len(word_index))\n",
        "    indices = np.arange(text.shape[0])\n",
        "    # np.random.shuffle(indices)\n",
        "    text = text[indices]\n",
        "    print(text.shape)\n",
        "\n",
        "    X_train_Glove = text[0:len(X_train), ]\n",
        "    X_test_Glove = text[len(X_train):, ]\n",
        "\n",
        "    # Now to create the word embeddings; first, we need to create a dictionary holding each word and its respective vector\n",
        "    embeddings_dict = {}\n",
        "    f = open(\"/content/drive/MyDrive/Indonesian-Twitter-Emotion-Dataset-master/glove.6B.50d.txt\", encoding=\"utf8\")\n",
        "    for line in f:\n",
        "        values = line.split()\n",
        "        word = values[0]\n",
        "        try:\n",
        "            coefs = np.asarray(values[1:], dtype='float32')\n",
        "        except:\n",
        "            pass\n",
        "        embeddings_dict[word] = coefs\n",
        "    f.close()\n",
        "    print('Total %s word vectors.' % len(embeddings_dict))\n",
        "    return (X_train_Glove, X_test_Glove, word_index, embeddings_dict)\n",
        "\n"
      ]
    },
    {
      "cell_type": "code",
      "execution_count": 18,
      "metadata": {
        "id": "f4qAGUM3e_3p"
      },
      "outputs": [],
      "source": [
        "from sklearn.preprocessing import LabelEncoder\n",
        "le = LabelEncoder()\n",
        "# from sklearn.preprocessing import OneHotEncoder\n",
        "# enc = OneHotEncoder(handle_unknown='ignore')\n",
        "# Y = enc.fit_transform(np.array(df[0]).reshape(-1,1)).toarray()\n",
        "from tensorflow.keras.utils import to_categorical"
      ]
    },
    {
      "cell_type": "code",
      "execution_count": 19,
      "metadata": {
        "colab": {
          "base_uri": "https://localhost:8080/"
        },
        "id": "O_peZTL0elWU",
        "outputId": "1b62042f-57b1-41dd-aa05-de61bb0f7093"
      },
      "outputs": [
        {
          "output_type": "stream",
          "name": "stdout",
          "text": [
            "68\n"
          ]
        }
      ],
      "source": [
        "#Max sequence length\n",
        "max = 0\n",
        "for text in text_after_pre:\n",
        "  if(len(text.split())>max):\n",
        "    max = len(text.split())\n",
        "    \n",
        "print(max)\n"
      ]
    },
    {
      "cell_type": "code",
      "execution_count": 20,
      "metadata": {
        "colab": {
          "base_uri": "https://localhost:8080/"
        },
        "id": "tkPnpCXnfCZF",
        "outputId": "910a5c67-b357-431f-fe84-a0aa20aa4693"
      },
      "outputs": [
        {
          "output_type": "stream",
          "name": "stdout",
          "text": [
            "Preparing model input ...\n",
            "Len of X_train =  6336\n",
            "Len of X_test =  1585\n"
          ]
        }
      ],
      "source": [
        "X = text_after_pre\n",
        "\n",
        "y =  le.fit_transform(dataset.label)\n",
        "y = to_categorical(y)\n",
        "# Train and test split\n",
        "X_train, X_test, y_train, y_test = train_test_split(X, y, test_size = 0.2,shuffle=True)\n",
        "# X_train, X_val, y_train, y_val = train_test_split(X_train, y_train, test_size = 0.2,shuffle=True)\n",
        "\n",
        "print(\"Preparing model input ...\")\n",
        "# Pre trained glove\n",
        "X_train2, X_test2, y_train2, y_test2 = train_test_split(X_train, y_train, test_size = 0.2,shuffle=True)\n",
        "\n",
        "X_train = np.concatenate((X_train,X_train2),axis=0)\n",
        "y_train = np.concatenate((y_train,y_train2),axis=0)\n",
        "\n",
        "X_test = np.concatenate((X_test,X_test2),axis=0)\n",
        "y_test = np.concatenate((y_test,y_test2),axis=0)\n",
        "print(\"Len of X_train = \",len(X_train))\n",
        "print(\"Len of X_test = \",len(X_test))\n",
        "# print(\"Len of X_val = \",len(X_val))"
      ]
    },
    {
      "cell_type": "code",
      "execution_count": 21,
      "metadata": {
        "colab": {
          "base_uri": "https://localhost:8080/"
        },
        "id": "2FUyvBThzTaE",
        "outputId": "03807ca6-3af7-4233-ea63-a7ee0e49ccbd"
      },
      "outputs": [
        {
          "output_type": "stream",
          "name": "stdout",
          "text": [
            "1585\n"
          ]
        }
      ],
      "source": [
        "print(len(y_test))"
      ]
    },
    {
      "cell_type": "code",
      "execution_count": 22,
      "metadata": {
        "colab": {
          "base_uri": "https://localhost:8080/"
        },
        "id": "2StkAhPDfHNv",
        "outputId": "c62cf634-337a-4acd-ddf3-42060c095bc1"
      },
      "outputs": [
        {
          "output_type": "stream",
          "name": "stdout",
          "text": [
            "Found 18526 unique tokens.\n",
            "(7921, 68)\n",
            "Total 400000 word vectors.\n",
            "Done!\n"
          ]
        }
      ],
      "source": [
        "X_train_Glove, X_test_Glove, word_index, embeddings_dict = prepare_model_input(X_train,X_test)\n",
        "\n",
        "\n",
        "print(\"Done!\")"
      ]
    },
    {
      "cell_type": "markdown",
      "metadata": {
        "id": "B2gwNeGpgoGe"
      },
      "source": [
        "# Create embedding matrix"
      ]
    },
    {
      "cell_type": "code",
      "execution_count": 23,
      "metadata": {
        "colab": {
          "base_uri": "https://localhost:8080/"
        },
        "id": "WbE3f0WpgneO",
        "outputId": "cea67a3c-3b72-4fef-ada2-decbd2fcacf9"
      },
      "outputs": [
        {
          "output_type": "stream",
          "name": "stdout",
          "text": [
            "[-0.48289001  0.20392001  0.45903999  0.038786   -0.09415    -0.62316\n",
            "  1.8003      0.15637    -0.12574001  0.63155001  0.42006999  0.78017998\n",
            "  0.19780999  0.44953999  0.58802003  0.064577   -0.46528     0.095197\n",
            "  0.76068002  0.75366998 -0.56775999  0.45908001  0.74886     0.13063\n",
            "  1.01139998  0.9752      0.51475    -0.26914999 -0.1425      0.89488\n",
            " -1.51359999  0.42719999  0.31139001  0.89723003 -0.95657003 -0.91882998\n",
            "  0.37211999 -0.51911002 -0.18426999 -0.038414   -0.0037454  -0.48157001\n",
            "  0.56906003  0.33829001  0.53009999 -0.92483997 -0.090862   -0.1309\n",
            "  0.87589002  1.17340004]\n"
          ]
        }
      ],
      "source": [
        "embedding_matrix = np.random.random((len(word_index) + 1, 50))\n",
        "for word, i in word_index.items():\n",
        "    embedding_vector = embeddings_dict.get(word)\n",
        "    if embedding_vector is not None:\n",
        "        # words not found in embedding index will be all-zeros.\n",
        "        if len(embedding_matrix[i]) != len(embedding_vector):\n",
        "            print(\"could not broadcast input array from shape\", str(len(embedding_matrix[i])),\n",
        "                  \"into shape\", str(len(embedding_vector)), \" Please make sure your\"\n",
        "                                                            \" EMBEDDING_DIM is equal to embedding_vector file ,GloVe,\")\n",
        "            exit(1)\n",
        "        embedding_matrix[i] = embedding_vector\n",
        "print(embedding_matrix[word_index['tidak']])"
      ]
    },
    {
      "cell_type": "markdown",
      "metadata": {
        "id": "vtJN52gPggsQ"
      },
      "source": [
        "# Model Bilstm"
      ]
    },
    {
      "cell_type": "code",
      "execution_count": 34,
      "metadata": {
        "colab": {
          "base_uri": "https://localhost:8080/"
        },
        "id": "X__OX0PPgUVS",
        "outputId": "474b0b96-61e3-4e5e-e17a-6ec35cc46aba"
      },
      "outputs": [
        {
          "output_type": "stream",
          "name": "stdout",
          "text": [
            "Model: \"sequential_1\"\n",
            "_________________________________________________________________\n",
            " Layer (type)                Output Shape              Param #   \n",
            "=================================================================\n",
            " embedding_1 (Embedding)     (None, 68, 50)            926350    \n",
            "                                                                 \n",
            " bidirectional_3 (Bidirectio  (None, 68, 128)          58880     \n",
            " nal)                                                            \n",
            "                                                                 \n",
            " dropout_4 (Dropout)         (None, 68, 128)           0         \n",
            "                                                                 \n",
            " batch_normalization_4 (Batc  (None, 68, 128)          512       \n",
            " hNormalization)                                                 \n",
            "                                                                 \n",
            " bidirectional_4 (Bidirectio  (None, 68, 64)           41216     \n",
            " nal)                                                            \n",
            "                                                                 \n",
            " dropout_5 (Dropout)         (None, 68, 64)            0         \n",
            "                                                                 \n",
            " batch_normalization_5 (Batc  (None, 68, 64)           256       \n",
            " hNormalization)                                                 \n",
            "                                                                 \n",
            " bidirectional_5 (Bidirectio  (None, 64)               24832     \n",
            " nal)                                                            \n",
            "                                                                 \n",
            " batch_normalization_6 (Batc  (None, 64)               256       \n",
            " hNormalization)                                                 \n",
            "                                                                 \n",
            " dropout_6 (Dropout)         (None, 64)                0         \n",
            "                                                                 \n",
            " dense_4 (Dense)             (None, 64)                4160      \n",
            "                                                                 \n",
            " dense_5 (Dense)             (None, 32)                2080      \n",
            "                                                                 \n",
            " dense_6 (Dense)             (None, 16)                528       \n",
            "                                                                 \n",
            " dense_7 (Dense)             (None, 8)                 136       \n",
            "                                                                 \n",
            " dense_8 (Dense)             (None, 5)                 45        \n",
            "                                                                 \n",
            "=================================================================\n",
            "Total params: 1,059,251\n",
            "Trainable params: 1,058,739\n",
            "Non-trainable params: 512\n",
            "_________________________________________________________________\n"
          ]
        }
      ],
      "source": [
        "model_glove = Sequential()\n",
        "model_glove.add(Embedding(len(word_index)+1, 50, input_length=68, weights=[embedding_matrix], trainable=True))\n",
        "model_glove.add(Bidirectional(LSTM(64, return_sequences=True)))\n",
        "model_glove.add(Dropout(0.5))\n",
        "model_glove.add(BatchNormalization())\n",
        "model_glove.add(Bidirectional(LSTM(32, return_sequences=True)))\n",
        "model_glove.add(Dropout(0.3))\n",
        "model_glove.add(BatchNormalization())\n",
        "model_glove.add(Bidirectional(LSTM(32)))\n",
        "model_glove.add(BatchNormalization())\n",
        "model_glove.add(Dropout(0.4))\n",
        "model_glove.add(Dense(64, activation='relu'))\n",
        "model_glove.add(Dense(32, activation='relu'))\n",
        "model_glove.add(Dense(16, activation='relu'))\n",
        "model_glove.add(Dense(8, activation='relu'))\n",
        "model_glove.add(Dense(5, activation='softmax'))\n",
        "model_glove.compile(loss='categorical_crossentropy', optimizer='adam', metrics=['accuracy'])\n",
        "model_glove.summary()"
      ]
    },
    {
      "cell_type": "code",
      "execution_count": 35,
      "metadata": {
        "colab": {
          "base_uri": "https://localhost:8080/"
        },
        "id": "v6UBGd3qgz8e",
        "outputId": "19735707-6efc-4fe5-aa18-64744e2c6dde"
      },
      "outputs": [
        {
          "output_type": "stream",
          "name": "stdout",
          "text": [
            "Epoch 1/20\n",
            "159/159 [==============================] - 49s 232ms/step - loss: 1.6161 - accuracy: 0.2283 - val_loss: 1.5922 - val_accuracy: 0.2579\n",
            "Epoch 2/20\n",
            "159/159 [==============================] - 37s 230ms/step - loss: 1.5916 - accuracy: 0.2457 - val_loss: 1.5777 - val_accuracy: 0.2634\n",
            "Epoch 3/20\n",
            "159/159 [==============================] - 35s 222ms/step - loss: 1.5638 - accuracy: 0.2703 - val_loss: 1.6113 - val_accuracy: 0.2831\n",
            "Epoch 4/20\n",
            "159/159 [==============================] - 34s 216ms/step - loss: 1.4507 - accuracy: 0.3506 - val_loss: 1.6836 - val_accuracy: 0.2429\n",
            "Epoch 5/20\n",
            "159/159 [==============================] - 34s 215ms/step - loss: 1.3099 - accuracy: 0.4501 - val_loss: 1.3022 - val_accuracy: 0.4511\n",
            "Epoch 6/20\n",
            "159/159 [==============================] - 36s 224ms/step - loss: 1.1412 - accuracy: 0.5280 - val_loss: 1.3809 - val_accuracy: 0.4779\n",
            "Epoch 7/20\n",
            "159/159 [==============================] - 34s 217ms/step - loss: 0.9797 - accuracy: 0.5845 - val_loss: 1.4132 - val_accuracy: 0.4771\n",
            "Epoch 8/20\n",
            "159/159 [==============================] - 36s 228ms/step - loss: 0.8397 - accuracy: 0.6425 - val_loss: 0.7924 - val_accuracy: 0.6562\n",
            "Epoch 9/20\n",
            "159/159 [==============================] - 35s 218ms/step - loss: 0.7353 - accuracy: 0.6993 - val_loss: 0.7246 - val_accuracy: 0.7437\n",
            "Epoch 10/20\n",
            "159/159 [==============================] - 34s 216ms/step - loss: 0.6528 - accuracy: 0.7419 - val_loss: 0.5902 - val_accuracy: 0.7721\n",
            "Epoch 11/20\n",
            "159/159 [==============================] - 35s 218ms/step - loss: 0.5782 - accuracy: 0.7727 - val_loss: 0.5822 - val_accuracy: 0.7855\n",
            "Epoch 12/20\n",
            "159/159 [==============================] - 34s 217ms/step - loss: 0.4998 - accuracy: 0.8039 - val_loss: 0.7034 - val_accuracy: 0.7256\n",
            "Epoch 13/20\n",
            "159/159 [==============================] - 35s 221ms/step - loss: 0.4184 - accuracy: 0.8528 - val_loss: 0.3558 - val_accuracy: 0.8943\n",
            "Epoch 14/20\n",
            "159/159 [==============================] - 35s 217ms/step - loss: 0.3389 - accuracy: 0.8897 - val_loss: 0.6221 - val_accuracy: 0.8021\n",
            "Epoch 15/20\n",
            "159/159 [==============================] - 34s 216ms/step - loss: 0.2958 - accuracy: 0.9098 - val_loss: 1.1705 - val_accuracy: 0.6104\n",
            "Epoch 16/20\n",
            "159/159 [==============================] - 35s 217ms/step - loss: 0.2521 - accuracy: 0.9262 - val_loss: 0.2300 - val_accuracy: 0.9369\n",
            "Epoch 17/20\n",
            "159/159 [==============================] - 35s 218ms/step - loss: 0.1955 - accuracy: 0.9519 - val_loss: 0.4222 - val_accuracy: 0.8738\n",
            "Epoch 18/20\n",
            "159/159 [==============================] - 35s 219ms/step - loss: 0.1379 - accuracy: 0.9653 - val_loss: 0.3594 - val_accuracy: 0.9054\n",
            "Epoch 19/20\n",
            "159/159 [==============================] - 34s 216ms/step - loss: 0.1212 - accuracy: 0.9674 - val_loss: 0.1169 - val_accuracy: 0.9661\n",
            "Epoch 20/20\n",
            "159/159 [==============================] - 35s 217ms/step - loss: 0.1323 - accuracy: 0.9665 - val_loss: 0.1420 - val_accuracy: 0.9590\n"
          ]
        }
      ],
      "source": [
        "from tensorflow.keras.callbacks import EarlyStopping\n",
        "es_callback = tf.keras.callbacks.EarlyStopping(monitor='val_loss', patience=3)\n",
        "history = model_glove.fit(X_train_Glove, y_train,\n",
        "                           validation_split=0.2,\n",
        "                           epochs=20,\n",
        "                          callbacks = [es_callback],\n",
        "                           batch_size=32,\n",
        "                           verbose=1)"
      ]
    },
    {
      "cell_type": "markdown",
      "metadata": {
        "id": "QQwlWNTAg469"
      },
      "source": [
        "# Plotting\n"
      ]
    },
    {
      "cell_type": "code",
      "execution_count": 36,
      "metadata": {
        "id": "FFV2tHEqg2MF"
      },
      "outputs": [],
      "source": [
        "def plot_graphs(history, string):\n",
        "  plt.plot(history.history[string])\n",
        "  plt.plot(history.history['val_'+string], '')\n",
        "  plt.xlabel(\"Epochs\")\n",
        "  plt.ylabel(string)\n",
        "  plt.legend([string, 'val_'+string])\n",
        "  plt.show()"
      ]
    },
    {
      "cell_type": "code",
      "execution_count": 37,
      "metadata": {
        "colab": {
          "base_uri": "https://localhost:8080/",
          "height": 544
        },
        "id": "zqfVE6Jxg73F",
        "outputId": "9a206e3f-06de-4d0c-d511-69db66e8c83d"
      },
      "outputs": [
        {
          "output_type": "display_data",
          "data": {
            "image/png": "[encoded data removed]",
            "text/plain": [
              "<Figure size 432x288 with 1 Axes>"
            ]
          },
          "metadata": {
            "needs_background": "light"
          }
        },
        {
          "output_type": "display_data",
          "data": {
            "image/png": "[encoded data removed]",
            "text/plain": [
              "<Figure size 432x288 with 1 Axes>"
            ]
          },
          "metadata": {
            "needs_background": "light"
          }
        }
      ],
      "source": [
        "plot_graphs(history, 'accuracy')\n",
        "plot_graphs(history, 'loss')"
      ]
    },
    {
      "cell_type": "markdown",
      "metadata": {
        "id": "bRW59Nz3hEXC"
      },
      "source": [
        "# Testing accuracy"
      ]
    },
    {
      "cell_type": "code",
      "execution_count": 38,
      "metadata": {
        "colab": {
          "base_uri": "https://localhost:8080/"
        },
        "id": "ekQ8Jl_rhA5t",
        "outputId": "f3291ec3-e2f9-4c5f-d2d0-3ab5c3a13cb4"
      },
      "outputs": [
        {
          "output_type": "stream",
          "name": "stdout",
          "text": [
            "\n",
            " Evaluating Model ... \n",
            "\n",
            "[[217 120   5   9  74]\n",
            " [ 12 167   4   2  63]\n",
            " [  2  18 216   8 128]\n",
            " [  3   2   8 146  56]\n",
            " [ 10  31  10  13 261]]\n"
          ]
        }
      ],
      "source": [
        "print(\"\\n Evaluating Model ... \\n\")\n",
        "predicted = model_glove.predict(X_test_Glove)\n",
        "print(metrics.confusion_matrix(np.argmax(y_test, axis=1),np.argmax(predicted, axis=1)))\n"
      ]
    },
    {
      "cell_type": "code",
      "execution_count": 39,
      "metadata": {
        "colab": {
          "base_uri": "https://localhost:8080/"
        },
        "id": "2wCJRG2KhD6f",
        "outputId": "9899bd36-6c98-40c5-a09c-42254572f8b7"
      },
      "outputs": [
        {
          "output_type": "stream",
          "name": "stdout",
          "text": [
            "1585\n",
            "1007\n",
            "Test_accuracy:  63.53312302839117 %\n"
          ]
        }
      ],
      "source": [
        "true = 0\n",
        "for pred ,real in zip(predicted,y_test):\n",
        "\n",
        "  if(np.argmax(pred) == np.argmax(real)):\n",
        "    true+=1\n",
        "print(len(y_test))\n",
        "print(true)\n",
        "\n",
        "print(\"Test_accuracy: \",(true/len(y_test)) *100 , \"%\")"
      ]
    },
    {
      "cell_type": "code",
      "execution_count": 40,
      "metadata": {
        "id": "0Nr2Fos2hlC9",
        "colab": {
          "base_uri": "https://localhost:8080/"
        },
        "outputId": "11dcd6bc-818c-4c72-d2ff-7825043b2a94"
      },
      "outputs": [
        {
          "output_type": "stream",
          "name": "stdout",
          "text": [
            "              precision    recall  f1-score   support\n",
            "\n",
            "           0       0.89      0.51      0.65       425\n",
            "           1       0.49      0.67      0.57       248\n",
            "           2       0.89      0.58      0.70       372\n",
            "           3       0.82      0.68      0.74       215\n",
            "           4       0.45      0.80      0.58       325\n",
            "\n",
            "    accuracy                           0.64      1585\n",
            "   macro avg       0.71      0.65      0.65      1585\n",
            "weighted avg       0.73      0.64      0.65      1585\n",
            "\n"
          ]
        }
      ],
      "source": [
        "from sklearn.metrics import classification_report\n",
        "print(classification_report(np.argmax(y_test, axis=1),np.argmax(predicted, axis=1)))"
      ]
    },
    {
      "cell_type": "code",
      "source": [
        ""
      ],
      "metadata": {
        "id": "aUVpObDNVuAs"
      },
      "execution_count": 40,
      "outputs": []
    }
  ],
  "metadata": {
    "colab": {
      "collapsed_sections": [],
      "name": "EmotionClassificationUsingBilstmandGlove.ipynb",
      "provenance": []
    },
    "kernelspec": {
      "display_name": "Python 3",
      "name": "python3"
    },
    "language_info": {
      "name": "python"
    }
  },
  "nbformat": 4,
  "nbformat_minor": 0
}